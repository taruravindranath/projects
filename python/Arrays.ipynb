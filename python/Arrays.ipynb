{
 "cells": [
  {
   "cell_type": "code",
   "execution_count": 12,
   "metadata": {},
   "outputs": [
    {
     "name": "stdout",
     "output_type": "stream",
     "text": [
      "Length of Dynamic Array:   0: Size in bytes:   64\n",
      "Length of Dynamic Array:   1: Size in bytes:   96\n",
      "Length of Dynamic Array:   2: Size in bytes:   96\n",
      "Length of Dynamic Array:   3: Size in bytes:   96\n",
      "Length of Dynamic Array:   4: Size in bytes:   96\n",
      "Length of Dynamic Array:   5: Size in bytes:  128\n",
      "Length of Dynamic Array:   6: Size in bytes:  128\n",
      "Length of Dynamic Array:   7: Size in bytes:  128\n",
      "Length of Dynamic Array:   8: Size in bytes:  128\n",
      "Length of Dynamic Array:   9: Size in bytes:  192\n"
     ]
    }
   ],
   "source": [
    "import sys\n",
    "\n",
    "totalItemsInArray = 10\n",
    "\n",
    "dynamicArray = []\n",
    "\n",
    "for i in range(totalItemsInArray):\n",
    "    # number of elements\n",
    "    currentNumberOfElements = len(dynamicArray)\n",
    "    \n",
    "    # current size of array\n",
    "    currentSizeOfArray = sys.getsizeof(dynamicArray)\n",
    "    \n",
    "    print(\"Length of Dynamic Array: {0:3d}: Size in bytes: {1:4d}\".format(currentNumberOfElements, currentSizeOfArray))\n",
    "    dynamicArray.append(totalItemsInArray)"
   ]
  },
  {
   "cell_type": "code",
   "execution_count": null,
   "metadata": {},
   "outputs": [],
   "source": []
  }
 ],
 "metadata": {
  "kernelspec": {
   "display_name": "Python 3",
   "language": "python",
   "name": "python3"
  },
  "language_info": {
   "codemirror_mode": {
    "name": "ipython",
    "version": 3
   },
   "file_extension": ".py",
   "mimetype": "text/x-python",
   "name": "python",
   "nbconvert_exporter": "python",
   "pygments_lexer": "ipython3",
   "version": "3.7.1"
  }
 },
 "nbformat": 4,
 "nbformat_minor": 2
}
